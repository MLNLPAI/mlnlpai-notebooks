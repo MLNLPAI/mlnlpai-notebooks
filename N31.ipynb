{
  "nbformat": 4,
  "nbformat_minor": 0,
  "metadata": {
    "colab": {
      "name": "N31.ipynb",
      "provenance": []
    },
    "kernelspec": {
      "name": "python3",
      "display_name": "Python 3"
    },
    "language_info": {
      "name": "python"
    }
  },
  "cells": [
    {
      "cell_type": "code",
      "metadata": {
        "id": "79o4CBeZpTr_"
      },
      "source": [
        "from sklearn.model_selection import GridSearchCV\n",
        "from sklearn.linear_model import PassiveAggressiveRegressor\n",
        "from sklearn.pipeline import Pipeline\n",
        "from sklearn.datasets import make_regression"
      ],
      "execution_count": 1,
      "outputs": []
    },
    {
      "cell_type": "code",
      "metadata": {
        "id": "Ofj8WzRgpf6i"
      },
      "source": [
        "X, y = make_regression(n_samples=1000, n_features=25, random_state=42)"
      ],
      "execution_count": 2,
      "outputs": []
    },
    {
      "cell_type": "code",
      "metadata": {
        "id": "q-pcixlupn_X"
      },
      "source": [
        "pipeline = Pipeline([\n",
        "                     ('regr', PassiveAggressiveRegressor())\n",
        "])"
      ],
      "execution_count": 3,
      "outputs": []
    },
    {
      "cell_type": "code",
      "metadata": {
        "id": "k5OI9ttxpsMX"
      },
      "source": [
        "params = {\n",
        "    'regr__C': [1.0, 1.2, 1.4],\n",
        "    'regr__fit_intercept': [True, False],\n",
        "    'regr__max_iter': [100, 200, 300],\n",
        "}"
      ],
      "execution_count": 4,
      "outputs": []
    },
    {
      "cell_type": "code",
      "metadata": {
        "id": "Su1T1V82p54T"
      },
      "source": [
        "gs_cv = GridSearchCV(estimator=pipeline, param_grid=params, cv=4, n_jobs=-1)"
      ],
      "execution_count": 5,
      "outputs": []
    },
    {
      "cell_type": "code",
      "metadata": {
        "colab": {
          "base_uri": "https://localhost:8080/"
        },
        "id": "yyqnHo54qCMO",
        "outputId": "85a998df-3da4-4f85-deea-3d7a97e423e1"
      },
      "source": [
        "gs_cv.fit(X, y)"
      ],
      "execution_count": 6,
      "outputs": [
        {
          "output_type": "execute_result",
          "data": {
            "text/plain": [
              "GridSearchCV(cv=4, error_score=nan,\n",
              "             estimator=Pipeline(memory=None,\n",
              "                                steps=[('regr',\n",
              "                                        PassiveAggressiveRegressor(C=1.0,\n",
              "                                                                   average=False,\n",
              "                                                                   early_stopping=False,\n",
              "                                                                   epsilon=0.1,\n",
              "                                                                   fit_intercept=True,\n",
              "                                                                   loss='epsilon_insensitive',\n",
              "                                                                   max_iter=1000,\n",
              "                                                                   n_iter_no_change=5,\n",
              "                                                                   random_state=None,\n",
              "                                                                   shuffle=True,\n",
              "                                                                   tol=0.001,\n",
              "                                                                   validation_fraction=0.1,\n",
              "                                                                   verbose=0,\n",
              "                                                                   warm_start=False))],\n",
              "                                verbose=False),\n",
              "             iid='deprecated', n_jobs=-1,\n",
              "             param_grid={'regr__C': [1.0, 1.2, 1.4],\n",
              "                         'regr__fit_intercept': [True, False],\n",
              "                         'regr__max_iter': [100, 200, 300]},\n",
              "             pre_dispatch='2*n_jobs', refit=True, return_train_score=False,\n",
              "             scoring=None, verbose=0)"
            ]
          },
          "metadata": {},
          "execution_count": 6
        }
      ]
    },
    {
      "cell_type": "code",
      "metadata": {
        "colab": {
          "base_uri": "https://localhost:8080/"
        },
        "id": "M1unGdTIqD4N",
        "outputId": "aae74d8e-8919-4796-f799-e076cfc5c502"
      },
      "source": [
        "print(gs_cv.best_score_)"
      ],
      "execution_count": 7,
      "outputs": [
        {
          "output_type": "stream",
          "name": "stdout",
          "text": [
            "0.999999976024312\n"
          ]
        }
      ]
    },
    {
      "cell_type": "code",
      "metadata": {
        "colab": {
          "base_uri": "https://localhost:8080/"
        },
        "id": "CRiUacxXqGWZ",
        "outputId": "539a27e4-e481-467d-d3e0-46435902fbb6"
      },
      "source": [
        "print(gs_cv.best_params_)"
      ],
      "execution_count": 8,
      "outputs": [
        {
          "output_type": "stream",
          "name": "stdout",
          "text": [
            "{'regr__C': 1.4, 'regr__fit_intercept': True, 'regr__max_iter': 200}\n"
          ]
        }
      ]
    },
    {
      "cell_type": "code",
      "metadata": {
        "id": "K7mOCH3FqI97"
      },
      "source": [
        ""
      ],
      "execution_count": null,
      "outputs": []
    }
  ]
}