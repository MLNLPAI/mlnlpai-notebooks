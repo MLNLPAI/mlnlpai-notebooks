{
  "nbformat": 4,
  "nbformat_minor": 0,
  "metadata": {
    "colab": {
      "name": "N23.ipynb",
      "provenance": []
    },
    "kernelspec": {
      "name": "python3",
      "display_name": "Python 3"
    },
    "language_info": {
      "name": "python"
    }
  },
  "cells": [
    {
      "cell_type": "code",
      "metadata": {
        "id": "5AHdltTRaRkm"
      },
      "source": [
        "from sklearn.model_selection import GridSearchCV\n",
        "from sklearn.linear_model import ElasticNet\n",
        "from sklearn.pipeline import Pipeline\n",
        "from sklearn.datasets import make_regression"
      ],
      "execution_count": 1,
      "outputs": []
    },
    {
      "cell_type": "code",
      "metadata": {
        "id": "PNRBsrZ5aTbe"
      },
      "source": [
        "X, y = make_regression(n_samples=8000, n_features=800, random_state=40)"
      ],
      "execution_count": 3,
      "outputs": []
    },
    {
      "cell_type": "code",
      "metadata": {
        "id": "mwKtg92dabg9"
      },
      "source": [
        "pipeline = Pipeline([\n",
        "                     ('regr', ElasticNet())\n",
        "])"
      ],
      "execution_count": 4,
      "outputs": []
    },
    {
      "cell_type": "code",
      "metadata": {
        "id": "0wixBVafag0G"
      },
      "source": [
        "params = {\n",
        "    'regr__fit_intercept': [True, False],\n",
        "    'regr__copy_X': [True, False],\n",
        "    'regr__l1_ratio': [0.1, 0.2, 0.3, 0.4, 0.5],\n",
        "}"
      ],
      "execution_count": 5,
      "outputs": []
    },
    {
      "cell_type": "code",
      "metadata": {
        "id": "-zNC632sas2J"
      },
      "source": [
        "gs_cv = GridSearchCV(estimator=pipeline, param_grid=params, cv=6, n_jobs=-1)"
      ],
      "execution_count": 6,
      "outputs": []
    },
    {
      "cell_type": "code",
      "metadata": {
        "colab": {
          "base_uri": "https://localhost:8080/"
        },
        "id": "aFw9lnt8az0P",
        "outputId": "fb6d33b0-8952-4dee-d994-cb849ecab2b4"
      },
      "source": [
        "gs_cv.fit(X, y)"
      ],
      "execution_count": 7,
      "outputs": [
        {
          "output_type": "execute_result",
          "data": {
            "text/plain": [
              "GridSearchCV(cv=6, error_score=nan,\n",
              "             estimator=Pipeline(memory=None,\n",
              "                                steps=[('regr',\n",
              "                                        ElasticNet(alpha=1.0, copy_X=True,\n",
              "                                                   fit_intercept=True,\n",
              "                                                   l1_ratio=0.5, max_iter=1000,\n",
              "                                                   normalize=False,\n",
              "                                                   positive=False,\n",
              "                                                   precompute=False,\n",
              "                                                   random_state=None,\n",
              "                                                   selection='cyclic',\n",
              "                                                   tol=0.0001,\n",
              "                                                   warm_start=False))],\n",
              "                                verbose=False),\n",
              "             iid='deprecated', n_jobs=-1,\n",
              "             param_grid={'regr__copy_X': [True, False],\n",
              "                         'regr__fit_intercept': [True, False],\n",
              "                         'regr__l1_ratio': [0.1, 0.2, 0.3, 0.4, 0.5]},\n",
              "             pre_dispatch='2*n_jobs', refit=True, return_train_score=False,\n",
              "             scoring=None, verbose=0)"
            ]
          },
          "metadata": {},
          "execution_count": 7
        }
      ]
    },
    {
      "cell_type": "code",
      "metadata": {
        "colab": {
          "base_uri": "https://localhost:8080/"
        },
        "id": "9dhSqCyUa1NB",
        "outputId": "4a296a82-d8ff-416d-d349-c59644bf5491"
      },
      "source": [
        "print(gs_cv.best_score_)"
      ],
      "execution_count": 8,
      "outputs": [
        {
          "output_type": "stream",
          "name": "stdout",
          "text": [
            "0.8775308413413206\n"
          ]
        }
      ]
    },
    {
      "cell_type": "code",
      "metadata": {
        "colab": {
          "base_uri": "https://localhost:8080/"
        },
        "id": "U1TmHabza7K6",
        "outputId": "690675ff-e6f9-4d7c-ea53-248bea7f987b"
      },
      "source": [
        "print(gs_cv.best_params_)"
      ],
      "execution_count": 9,
      "outputs": [
        {
          "output_type": "stream",
          "name": "stdout",
          "text": [
            "{'regr__copy_X': True, 'regr__fit_intercept': False, 'regr__l1_ratio': 0.5}\n"
          ]
        }
      ]
    },
    {
      "cell_type": "code",
      "metadata": {
        "id": "LLmzlNzwa9g3"
      },
      "source": [
        ""
      ],
      "execution_count": null,
      "outputs": []
    }
  ]
}