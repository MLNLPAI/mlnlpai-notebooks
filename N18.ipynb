{
  "nbformat": 4,
  "nbformat_minor": 0,
  "metadata": {
    "colab": {
      "name": "N18.ipynb",
      "provenance": [],
      "collapsed_sections": []
    },
    "kernelspec": {
      "name": "python3",
      "display_name": "Python 3"
    },
    "language_info": {
      "name": "python"
    }
  },
  "cells": [
    {
      "cell_type": "code",
      "metadata": {
        "id": "I1qbW3fWym3b"
      },
      "source": [
        "from sklearn.model_selection import GridSearchCV\n",
        "from sklearn.linear_model import LassoLarsCV\n",
        "from sklearn.pipeline import Pipeline\n",
        "from sklearn.datasets import make_regression"
      ],
      "execution_count": 2,
      "outputs": []
    },
    {
      "cell_type": "code",
      "metadata": {
        "id": "CzSBYj1Eyof1"
      },
      "source": [
        "X, y = make_regression(n_samples=10000, n_features=300, random_state=42)"
      ],
      "execution_count": 3,
      "outputs": []
    },
    {
      "cell_type": "code",
      "metadata": {
        "id": "fIU5Hmvoy0ch"
      },
      "source": [
        "pipeline = Pipeline([\n",
        "                     ('regr', LassoLarsCV())\n",
        "])"
      ],
      "execution_count": 4,
      "outputs": []
    },
    {
      "cell_type": "code",
      "metadata": {
        "id": "sIFRTjVly4vp"
      },
      "source": [
        "params = {\n",
        "    'regr__fit_intercept': [True, False],\n",
        "    'regr__copy_X': [True, False],\n",
        "}"
      ],
      "execution_count": 5,
      "outputs": []
    },
    {
      "cell_type": "code",
      "metadata": {
        "id": "1nm2oPX5zBay"
      },
      "source": [
        "gs_cv = GridSearchCV(estimator=pipeline, param_grid=params, cv=8, n_jobs=-1)"
      ],
      "execution_count": 6,
      "outputs": []
    },
    {
      "cell_type": "code",
      "metadata": {
        "colab": {
          "base_uri": "https://localhost:8080/"
        },
        "id": "MEKOeYoqzHzn",
        "outputId": "ebcf5ea3-8b9d-4664-8148-7aef0ca42659"
      },
      "source": [
        "gs_cv.fit(X, y)"
      ],
      "execution_count": 7,
      "outputs": [
        {
          "output_type": "execute_result",
          "data": {
            "text/plain": [
              "GridSearchCV(cv=8, error_score=nan,\n",
              "             estimator=Pipeline(memory=None,\n",
              "                                steps=[('regr',\n",
              "                                        LassoLarsCV(copy_X=True, cv=None,\n",
              "                                                    eps=2.220446049250313e-16,\n",
              "                                                    fit_intercept=True,\n",
              "                                                    max_iter=500,\n",
              "                                                    max_n_alphas=1000,\n",
              "                                                    n_jobs=None, normalize=True,\n",
              "                                                    positive=False,\n",
              "                                                    precompute='auto',\n",
              "                                                    verbose=False))],\n",
              "                                verbose=False),\n",
              "             iid='deprecated', n_jobs=-1,\n",
              "             param_grid={'regr__copy_X': [True, False],\n",
              "                         'regr__fit_intercept': [True, False]},\n",
              "             pre_dispatch='2*n_jobs', refit=True, return_train_score=False,\n",
              "             scoring=None, verbose=0)"
            ]
          },
          "metadata": {},
          "execution_count": 7
        }
      ]
    },
    {
      "cell_type": "code",
      "metadata": {
        "colab": {
          "base_uri": "https://localhost:8080/"
        },
        "id": "BA9rID3xzJN7",
        "outputId": "cb7c7da1-6d26-4648-ee2f-d891bdd7e4dd"
      },
      "source": [
        "print(gs_cv.best_score_)"
      ],
      "execution_count": 8,
      "outputs": [
        {
          "output_type": "stream",
          "name": "stdout",
          "text": [
            "1.0\n"
          ]
        }
      ]
    },
    {
      "cell_type": "code",
      "metadata": {
        "colab": {
          "base_uri": "https://localhost:8080/"
        },
        "id": "4IuILabHzPjs",
        "outputId": "096ea0dc-398b-4bf4-fa8e-d248e9ff5326"
      },
      "source": [
        "print(gs_cv.best_params_)"
      ],
      "execution_count": 9,
      "outputs": [
        {
          "output_type": "stream",
          "name": "stdout",
          "text": [
            "{'regr__copy_X': True, 'regr__fit_intercept': True}\n"
          ]
        }
      ]
    },
    {
      "cell_type": "code",
      "metadata": {
        "id": "x0evZyxlzR-M"
      },
      "source": [
        ""
      ],
      "execution_count": null,
      "outputs": []
    }
  ]
}