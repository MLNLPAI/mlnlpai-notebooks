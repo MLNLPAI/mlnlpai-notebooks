{
  "nbformat": 4,
  "nbformat_minor": 0,
  "metadata": {
    "colab": {
      "name": "N27.ipynb",
      "provenance": []
    },
    "kernelspec": {
      "name": "python3",
      "display_name": "Python 3"
    },
    "language_info": {
      "name": "python"
    }
  },
  "cells": [
    {
      "cell_type": "code",
      "metadata": {
        "id": "6GA-ewMAfu-b"
      },
      "source": [
        "from sklearn.model_selection import GridSearchCV\n",
        "from sklearn.linear_model import BayesianRidge\n",
        "from sklearn.pipeline import Pipeline\n",
        "from sklearn.datasets import make_regression"
      ],
      "execution_count": 1,
      "outputs": []
    },
    {
      "cell_type": "code",
      "metadata": {
        "id": "EFm2JRp0fwrt"
      },
      "source": [
        "X, y = make_regression(n_samples=1000, n_features=120, random_state=42 )"
      ],
      "execution_count": 2,
      "outputs": []
    },
    {
      "cell_type": "code",
      "metadata": {
        "id": "Pmics6Npf5U_"
      },
      "source": [
        "pipeline = Pipeline([\n",
        "                     ('regr', BayesianRidge())\n",
        "])"
      ],
      "execution_count": 3,
      "outputs": []
    },
    {
      "cell_type": "code",
      "metadata": {
        "id": "yW8M_Gzof9M3"
      },
      "source": [
        "params = {\n",
        "    'regr__fit_intercept': [True, False],\n",
        "    'regr__alpha_1': [0.1, 0.2],\n",
        "    'regr__alpha_2': [0.1, 0.2],\n",
        "    'regr__copy_X': [True, False],\n",
        "    'regr__n_iter': [100, 250, 350],\n",
        "}"
      ],
      "execution_count": 7,
      "outputs": []
    },
    {
      "cell_type": "code",
      "metadata": {
        "id": "aFAnldLigP-o"
      },
      "source": [
        "gs_cv = GridSearchCV(estimator=pipeline, param_grid=params, cv=4, n_jobs=-1)"
      ],
      "execution_count": 8,
      "outputs": []
    },
    {
      "cell_type": "code",
      "metadata": {
        "colab": {
          "base_uri": "https://localhost:8080/"
        },
        "id": "liG2UXIKgWBJ",
        "outputId": "73d4de6a-7048-475a-8ded-0d6eb24a5352"
      },
      "source": [
        "gs_cv.fit(X, y)"
      ],
      "execution_count": 9,
      "outputs": [
        {
          "output_type": "execute_result",
          "data": {
            "text/plain": [
              "GridSearchCV(cv=4, error_score=nan,\n",
              "             estimator=Pipeline(memory=None,\n",
              "                                steps=[('regr',\n",
              "                                        BayesianRidge(alpha_1=1e-06,\n",
              "                                                      alpha_2=1e-06,\n",
              "                                                      alpha_init=None,\n",
              "                                                      compute_score=False,\n",
              "                                                      copy_X=True,\n",
              "                                                      fit_intercept=True,\n",
              "                                                      lambda_1=1e-06,\n",
              "                                                      lambda_2=1e-06,\n",
              "                                                      lambda_init=None,\n",
              "                                                      n_iter=300,\n",
              "                                                      normalize=False,\n",
              "                                                      tol=0.001,\n",
              "                                                      verbose=False))],\n",
              "                                verbose=False),\n",
              "             iid='deprecated', n_jobs=-1,\n",
              "             param_grid={'regr__alpha_1': [0.1, 0.2],\n",
              "                         'regr__alpha_2': [0.1, 0.2],\n",
              "                         'regr__copy_X': [True, False],\n",
              "                         'regr__fit_intercept': [True, False],\n",
              "                         'regr__n_iter': [100, 250, 350]},\n",
              "             pre_dispatch='2*n_jobs', refit=True, return_train_score=False,\n",
              "             scoring=None, verbose=0)"
            ]
          },
          "metadata": {},
          "execution_count": 9
        }
      ]
    },
    {
      "cell_type": "code",
      "metadata": {
        "colab": {
          "base_uri": "https://localhost:8080/"
        },
        "id": "GRPBihGLgXXk",
        "outputId": "20a8cc21-df9c-4a8f-affb-240788dfa339"
      },
      "source": [
        "print(gs_cv.best_score_)"
      ],
      "execution_count": 10,
      "outputs": [
        {
          "output_type": "stream",
          "name": "stdout",
          "text": [
            "1.0\n"
          ]
        }
      ]
    },
    {
      "cell_type": "code",
      "metadata": {
        "id": "R7vEAOm6gkW2",
        "outputId": "64e36997-47f0-4f9e-a8c9-8781ede10ece",
        "colab": {
          "base_uri": "https://localhost:8080/"
        }
      },
      "source": [
        "print(gs_cv.best_params_)"
      ],
      "execution_count": 11,
      "outputs": [
        {
          "output_type": "stream",
          "name": "stdout",
          "text": [
            "{'regr__alpha_1': 0.1, 'regr__alpha_2': 0.1, 'regr__copy_X': True, 'regr__fit_intercept': True, 'regr__n_iter': 100}\n"
          ]
        }
      ]
    },
    {
      "cell_type": "code",
      "metadata": {
        "id": "JH-1pkDjgmnn"
      },
      "source": [
        ""
      ],
      "execution_count": null,
      "outputs": []
    }
  ]
}