{
  "nbformat": 4,
  "nbformat_minor": 0,
  "metadata": {
    "colab": {
      "name": "N32.ipynb",
      "provenance": []
    },
    "kernelspec": {
      "name": "python3",
      "display_name": "Python 3"
    },
    "language_info": {
      "name": "python"
    }
  },
  "cells": [
    {
      "cell_type": "code",
      "metadata": {
        "id": "qKN4mTrhqYDQ"
      },
      "source": [
        "from sklearn.model_selection import GridSearchCV\n",
        "from sklearn.linear_model import HuberRegressor\n",
        "from sklearn.pipeline import Pipeline\n",
        "from sklearn.datasets import make_regression"
      ],
      "execution_count": 2,
      "outputs": []
    },
    {
      "cell_type": "code",
      "metadata": {
        "id": "Jc_P7TSZql-E"
      },
      "source": [
        "X, y = make_regression(n_samples=1000, n_features=20, random_state=42)"
      ],
      "execution_count": 3,
      "outputs": []
    },
    {
      "cell_type": "code",
      "metadata": {
        "id": "rnk51JEbrcR9"
      },
      "source": [
        "pipeline = Pipeline([\n",
        "                     ('regr', HuberRegressor())\n",
        "])"
      ],
      "execution_count": 4,
      "outputs": []
    },
    {
      "cell_type": "code",
      "metadata": {
        "id": "o2-3KVFbrfy4"
      },
      "source": [
        "params = {\n",
        "    'regr__epsilon': [1.2, 3.3, 4.4],\n",
        "    'regr__fit_intercept': [True, False],\n",
        "    'regr__alpha': [0.1, 0.2, 0.3],\n",
        "}"
      ],
      "execution_count": 5,
      "outputs": []
    },
    {
      "cell_type": "code",
      "metadata": {
        "id": "ln4iPMwNrs3v"
      },
      "source": [
        "gs_cv = GridSearchCV(estimator=pipeline, param_grid=params, cv=4, n_jobs=-1)"
      ],
      "execution_count": 6,
      "outputs": []
    },
    {
      "cell_type": "code",
      "metadata": {
        "colab": {
          "base_uri": "https://localhost:8080/"
        },
        "id": "ulUMK50Yr0cJ",
        "outputId": "12cf502c-a042-4350-c41a-6cae463e2136"
      },
      "source": [
        "gs_cv.fit(X, y)"
      ],
      "execution_count": 7,
      "outputs": [
        {
          "output_type": "execute_result",
          "data": {
            "text/plain": [
              "GridSearchCV(cv=4, error_score=nan,\n",
              "             estimator=Pipeline(memory=None,\n",
              "                                steps=[('regr',\n",
              "                                        HuberRegressor(alpha=0.0001,\n",
              "                                                       epsilon=1.35,\n",
              "                                                       fit_intercept=True,\n",
              "                                                       max_iter=100, tol=1e-05,\n",
              "                                                       warm_start=False))],\n",
              "                                verbose=False),\n",
              "             iid='deprecated', n_jobs=-1,\n",
              "             param_grid={'regr__alpha': [0.1, 0.2, 0.3],\n",
              "                         'regr__epsilon': [1.2, 3.3, 4.4],\n",
              "                         'regr__fit_intercept': [True, False]},\n",
              "             pre_dispatch='2*n_jobs', refit=True, return_train_score=False,\n",
              "             scoring=None, verbose=0)"
            ]
          },
          "metadata": {},
          "execution_count": 7
        }
      ]
    },
    {
      "cell_type": "code",
      "metadata": {
        "colab": {
          "base_uri": "https://localhost:8080/"
        },
        "id": "xXPFOdVRr1-8",
        "outputId": "09c774bb-c954-4327-b991-cd4539ca79d5"
      },
      "source": [
        "print(gs_cv.best_score_)"
      ],
      "execution_count": 8,
      "outputs": [
        {
          "output_type": "stream",
          "name": "stdout",
          "text": [
            "1.0\n"
          ]
        }
      ]
    },
    {
      "cell_type": "code",
      "metadata": {
        "colab": {
          "base_uri": "https://localhost:8080/"
        },
        "id": "9Egwo08XsLa0",
        "outputId": "6ffd8b48-9489-41fd-fba9-1e29878094df"
      },
      "source": [
        "print(gs_cv.best_params_)"
      ],
      "execution_count": 9,
      "outputs": [
        {
          "output_type": "stream",
          "name": "stdout",
          "text": [
            "{'regr__alpha': 0.1, 'regr__epsilon': 1.2, 'regr__fit_intercept': True}\n"
          ]
        }
      ]
    },
    {
      "cell_type": "code",
      "metadata": {
        "id": "P2w-ltR_sN2H"
      },
      "source": [
        ""
      ],
      "execution_count": null,
      "outputs": []
    }
  ]
}