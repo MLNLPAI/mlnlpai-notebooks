{
  "nbformat": 4,
  "nbformat_minor": 0,
  "metadata": {
    "colab": {
      "name": "N25.ipynb",
      "provenance": []
    },
    "kernelspec": {
      "name": "python3",
      "display_name": "Python 3"
    },
    "language_info": {
      "name": "python"
    }
  },
  "cells": [
    {
      "cell_type": "code",
      "metadata": {
        "id": "THNwKc4QcO5v"
      },
      "source": [
        "from sklearn.model_selection import GridSearchCV\n",
        "from sklearn.linear_model import BayesianRidge\n",
        "from sklearn.pipeline import Pipeline\n",
        "from sklearn.datasets import make_regression"
      ],
      "execution_count": 1,
      "outputs": []
    },
    {
      "cell_type": "code",
      "metadata": {
        "id": "U2FBjEvRcVLh"
      },
      "source": [
        "X, y = make_regression(n_samples=1000, n_features=25, random_state=42)"
      ],
      "execution_count": 10,
      "outputs": []
    },
    {
      "cell_type": "code",
      "metadata": {
        "id": "iMVyDvFycqrL"
      },
      "source": [
        "pipeline = Pipeline([\n",
        "                     ('regr', BayesianRidge())\n",
        "])"
      ],
      "execution_count": 11,
      "outputs": []
    },
    {
      "cell_type": "code",
      "metadata": {
        "id": "gxTGG0LOcuez"
      },
      "source": [
        "params = {\n",
        "    'regr__n_iter':[300, 400, 500, 600],\n",
        "    'regr__alpha_1': [0.1, 0.2, 0.3],\n",
        "    'regr__alpha_2': [0.1, 0.2, 0.3],\n",
        "    'regr__fit_intercept': [True, False],\n",
        "    'regr__copy_X': [True, False],\n",
        "}"
      ],
      "execution_count": 12,
      "outputs": []
    },
    {
      "cell_type": "code",
      "metadata": {
        "id": "4Dmny6pydK7P"
      },
      "source": [
        "gs_cv = GridSearchCV(estimator=pipeline, param_grid=params, cv=5, n_jobs=-1)"
      ],
      "execution_count": 13,
      "outputs": []
    },
    {
      "cell_type": "code",
      "metadata": {
        "colab": {
          "base_uri": "https://localhost:8080/"
        },
        "id": "KpvvUyWXdRG8",
        "outputId": "4be0fe16-2e99-473b-e269-f99bfaf880f1"
      },
      "source": [
        "gs_cv.fit(X, y)"
      ],
      "execution_count": 14,
      "outputs": [
        {
          "output_type": "execute_result",
          "data": {
            "text/plain": [
              "GridSearchCV(cv=5, error_score=nan,\n",
              "             estimator=Pipeline(memory=None,\n",
              "                                steps=[('regr',\n",
              "                                        BayesianRidge(alpha_1=1e-06,\n",
              "                                                      alpha_2=1e-06,\n",
              "                                                      alpha_init=None,\n",
              "                                                      compute_score=False,\n",
              "                                                      copy_X=True,\n",
              "                                                      fit_intercept=True,\n",
              "                                                      lambda_1=1e-06,\n",
              "                                                      lambda_2=1e-06,\n",
              "                                                      lambda_init=None,\n",
              "                                                      n_iter=300,\n",
              "                                                      normalize=False,\n",
              "                                                      tol=0.001,\n",
              "                                                      verbose=False))],\n",
              "                                verbose=False),\n",
              "             iid='deprecated', n_jobs=-1,\n",
              "             param_grid={'regr__alpha_1': [0.1, 0.2, 0.3],\n",
              "                         'regr__alpha_2': [0.1, 0.2, 0.3],\n",
              "                         'regr__copy_X': [True, False],\n",
              "                         'regr__fit_intercept': [True, False],\n",
              "                         'regr__n_iter': [300, 400, 500, 600]},\n",
              "             pre_dispatch='2*n_jobs', refit=True, return_train_score=False,\n",
              "             scoring=None, verbose=0)"
            ]
          },
          "metadata": {},
          "execution_count": 14
        }
      ]
    },
    {
      "cell_type": "code",
      "metadata": {
        "colab": {
          "base_uri": "https://localhost:8080/"
        },
        "id": "UNNTqaipdTbH",
        "outputId": "6a14d0ee-df04-4f4c-cbfc-fa4604228c4b"
      },
      "source": [
        "print(gs_cv.best_score_)"
      ],
      "execution_count": 15,
      "outputs": [
        {
          "output_type": "stream",
          "name": "stdout",
          "text": [
            "1.0\n"
          ]
        }
      ]
    },
    {
      "cell_type": "code",
      "metadata": {
        "colab": {
          "base_uri": "https://localhost:8080/"
        },
        "id": "fHLBH5vKdsUU",
        "outputId": "8df446b1-5931-4acb-ffe7-339b6696301a"
      },
      "source": [
        "print(gs_cv.best_params_)"
      ],
      "execution_count": 16,
      "outputs": [
        {
          "output_type": "stream",
          "name": "stdout",
          "text": [
            "{'regr__alpha_1': 0.1, 'regr__alpha_2': 0.1, 'regr__copy_X': True, 'regr__fit_intercept': True, 'regr__n_iter': 300}\n"
          ]
        }
      ]
    },
    {
      "cell_type": "code",
      "metadata": {
        "id": "75t8s7cXduZ4"
      },
      "source": [
        ""
      ],
      "execution_count": null,
      "outputs": []
    }
  ]
}