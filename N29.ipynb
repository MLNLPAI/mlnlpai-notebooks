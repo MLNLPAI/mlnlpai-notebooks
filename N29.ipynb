{
  "nbformat": 4,
  "nbformat_minor": 0,
  "metadata": {
    "colab": {
      "name": "N29.ipynb",
      "provenance": []
    },
    "kernelspec": {
      "name": "python3",
      "display_name": "Python 3"
    },
    "language_info": {
      "name": "python"
    }
  },
  "cells": [
    {
      "cell_type": "code",
      "metadata": {
        "id": "7xmwWvTBnFb_"
      },
      "source": [
        "from sklearn.model_selection import GridSearchCV\n",
        "from sklearn.linear_model import SGDRegressor\n",
        "from sklearn.pipeline import Pipeline\n",
        "from sklearn.datasets import make_regression"
      ],
      "execution_count": 1,
      "outputs": []
    },
    {
      "cell_type": "code",
      "metadata": {
        "id": "5kTGSx3InHa-"
      },
      "source": [
        "X, y = make_regression(n_samples=500, n_features=26, random_state=42)"
      ],
      "execution_count": 2,
      "outputs": []
    },
    {
      "cell_type": "code",
      "metadata": {
        "id": "PjnYyGMvnOs3"
      },
      "source": [
        "pipeline = Pipeline([\n",
        "                     ('regr', SGDRegressor())\n",
        "])"
      ],
      "execution_count": 3,
      "outputs": []
    },
    {
      "cell_type": "code",
      "metadata": {
        "id": "R-QpVxNgnSKN"
      },
      "source": [
        "params = {\n",
        "    'regr__penalty': ['l1', 'l2', 'elasticnet'],\n",
        "    'regr__alpha': [0.1, 0.2, 0.3],\n",
        "    'regr__fit_intercept': [True, False],\n",
        "    'regr__max_iter': [100, 200, 300, 400],\n",
        "}"
      ],
      "execution_count": 4,
      "outputs": []
    },
    {
      "cell_type": "code",
      "metadata": {
        "id": "RIlNXkd7nm22"
      },
      "source": [
        "gs_cv = GridSearchCV(estimator=pipeline, param_grid=params, cv=5, n_jobs=-1)"
      ],
      "execution_count": 5,
      "outputs": []
    },
    {
      "cell_type": "code",
      "metadata": {
        "colab": {
          "base_uri": "https://localhost:8080/"
        },
        "id": "uH9Z5VTxnsb4",
        "outputId": "e0d468cb-6dbe-43f1-938f-426ea434791e"
      },
      "source": [
        "gs_cv.fit(X, y)"
      ],
      "execution_count": 6,
      "outputs": [
        {
          "output_type": "execute_result",
          "data": {
            "text/plain": [
              "GridSearchCV(cv=5, error_score=nan,\n",
              "             estimator=Pipeline(memory=None,\n",
              "                                steps=[('regr',\n",
              "                                        SGDRegressor(alpha=0.0001,\n",
              "                                                     average=False,\n",
              "                                                     early_stopping=False,\n",
              "                                                     epsilon=0.1, eta0=0.01,\n",
              "                                                     fit_intercept=True,\n",
              "                                                     l1_ratio=0.15,\n",
              "                                                     learning_rate='invscaling',\n",
              "                                                     loss='squared_loss',\n",
              "                                                     max_iter=1000,\n",
              "                                                     n_iter_no_change=5,\n",
              "                                                     penalty='l2', power_t=0.25,\n",
              "                                                     random_state=None,\n",
              "                                                     shuffle=True, tol=0.001,\n",
              "                                                     validation_fraction=0.1,\n",
              "                                                     verbose=0,\n",
              "                                                     warm_start=False))],\n",
              "                                verbose=False),\n",
              "             iid='deprecated', n_jobs=-1,\n",
              "             param_grid={'regr__alpha': [0.1, 0.2, 0.3],\n",
              "                         'regr__fit_intercept': [True, False],\n",
              "                         'regr__max_iter': [100, 200, 300, 400],\n",
              "                         'regr__penalty': ['l1', 'l2', 'elasticnet']},\n",
              "             pre_dispatch='2*n_jobs', refit=True, return_train_score=False,\n",
              "             scoring=None, verbose=0)"
            ]
          },
          "metadata": {},
          "execution_count": 6
        }
      ]
    },
    {
      "cell_type": "code",
      "metadata": {
        "colab": {
          "base_uri": "https://localhost:8080/"
        },
        "id": "ca3WvM4kntky",
        "outputId": "9a9d41f1-58e7-4c53-910f-51a1f54dd8f4"
      },
      "source": [
        "print(gs_cv.best_params_)"
      ],
      "execution_count": 7,
      "outputs": [
        {
          "output_type": "stream",
          "name": "stdout",
          "text": [
            "{'regr__alpha': 0.1, 'regr__fit_intercept': False, 'regr__max_iter': 400, 'regr__penalty': 'l1'}\n"
          ]
        }
      ]
    },
    {
      "cell_type": "code",
      "metadata": {
        "id": "4fzqyxtRn0C3",
        "outputId": "9663db99-7c52-4b6f-d708-f5dc1736d432",
        "colab": {
          "base_uri": "https://localhost:8080/"
        }
      },
      "source": [
        "print(gs_cv.best_score_)"
      ],
      "execution_count": 8,
      "outputs": [
        {
          "output_type": "stream",
          "name": "stdout",
          "text": [
            "0.9999960535729528\n"
          ]
        }
      ]
    },
    {
      "cell_type": "code",
      "metadata": {
        "id": "9tsKEa3yn2h4"
      },
      "source": [
        ""
      ],
      "execution_count": null,
      "outputs": []
    }
  ]
}