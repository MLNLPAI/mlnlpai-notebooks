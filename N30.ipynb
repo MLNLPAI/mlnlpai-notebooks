{
  "nbformat": 4,
  "nbformat_minor": 0,
  "metadata": {
    "colab": {
      "name": "N30.ipynb",
      "provenance": []
    },
    "kernelspec": {
      "name": "python3",
      "display_name": "Python 3"
    },
    "language_info": {
      "name": "python"
    }
  },
  "cells": [
    {
      "cell_type": "code",
      "metadata": {
        "id": "v8x8tXaaoCF7"
      },
      "source": [
        "from sklearn.model_selection import GridSearchCV\n",
        "from sklearn.linear_model import SGDRegressor\n",
        "from sklearn.pipeline import Pipeline\n",
        "from sklearn.datasets import make_regression"
      ],
      "execution_count": 1,
      "outputs": []
    },
    {
      "cell_type": "code",
      "metadata": {
        "id": "sRMyE8OloDqv"
      },
      "source": [
        "X, y = make_regression(n_samples=1000, n_features=4, random_state=1000)"
      ],
      "execution_count": 2,
      "outputs": []
    },
    {
      "cell_type": "code",
      "metadata": {
        "id": "tvdVg68roK7z"
      },
      "source": [
        "pipeline = Pipeline([\n",
        "                     ('regr', SGDRegressor())\n",
        "])"
      ],
      "execution_count": 3,
      "outputs": []
    },
    {
      "cell_type": "code",
      "metadata": {
        "id": "hLmWK-1loOFj"
      },
      "source": [
        "params = {\n",
        "    'regr__penalty': ['l1', 'l2', 'elasticnet'],\n",
        "    'regr__alpha': [0.1, 0.013, 0.15],\n",
        "    'regr__fit_intercept': [True, False],\n",
        "    'regr__max_iter': [200, 300, 400, 500],\n",
        "}"
      ],
      "execution_count": 7,
      "outputs": []
    },
    {
      "cell_type": "code",
      "metadata": {
        "id": "qGWbcmMDoo4C"
      },
      "source": [
        "gs_cv = GridSearchCV(estimator=pipeline, param_grid=params, cv=3, n_jobs=-1)"
      ],
      "execution_count": 8,
      "outputs": []
    },
    {
      "cell_type": "code",
      "metadata": {
        "colab": {
          "base_uri": "https://localhost:8080/"
        },
        "id": "SjHQO6MrovKB",
        "outputId": "3aa46b0d-c2ef-4cf9-d632-0374b8daa887"
      },
      "source": [
        "gs_cv.fit(X, y)"
      ],
      "execution_count": 9,
      "outputs": [
        {
          "output_type": "execute_result",
          "data": {
            "text/plain": [
              "GridSearchCV(cv=3, error_score=nan,\n",
              "             estimator=Pipeline(memory=None,\n",
              "                                steps=[('regr',\n",
              "                                        SGDRegressor(alpha=0.0001,\n",
              "                                                     average=False,\n",
              "                                                     early_stopping=False,\n",
              "                                                     epsilon=0.1, eta0=0.01,\n",
              "                                                     fit_intercept=True,\n",
              "                                                     l1_ratio=0.15,\n",
              "                                                     learning_rate='invscaling',\n",
              "                                                     loss='squared_loss',\n",
              "                                                     max_iter=1000,\n",
              "                                                     n_iter_no_change=5,\n",
              "                                                     penalty='l2', power_t=0.25,\n",
              "                                                     random_state=None,\n",
              "                                                     shuffle=True, tol=0.001,\n",
              "                                                     validation_fraction=0.1,\n",
              "                                                     verbose=0,\n",
              "                                                     warm_start=False))],\n",
              "                                verbose=False),\n",
              "             iid='deprecated', n_jobs=-1,\n",
              "             param_grid={'regr__alpha': [0.1, 0.013, 0.15],\n",
              "                         'regr__fit_intercept': [True, False],\n",
              "                         'regr__max_iter': [200, 300, 400, 500],\n",
              "                         'regr__penalty': ['l1', 'l2', 'elasticnet']},\n",
              "             pre_dispatch='2*n_jobs', refit=True, return_train_score=False,\n",
              "             scoring=None, verbose=0)"
            ]
          },
          "metadata": {},
          "execution_count": 9
        }
      ]
    },
    {
      "cell_type": "code",
      "metadata": {
        "colab": {
          "base_uri": "https://localhost:8080/"
        },
        "id": "wMRy_DDYowcO",
        "outputId": "37b0cf4e-22b2-43e9-985a-851575c7a846"
      },
      "source": [
        "print(gs_cv.best_score_)"
      ],
      "execution_count": 10,
      "outputs": [
        {
          "output_type": "stream",
          "name": "stdout",
          "text": [
            "0.9999998870331849\n"
          ]
        }
      ]
    },
    {
      "cell_type": "code",
      "metadata": {
        "colab": {
          "base_uri": "https://localhost:8080/"
        },
        "id": "6cRFvmh5o58u",
        "outputId": "b008a754-b628-4824-8157-62955bb4f19f"
      },
      "source": [
        "print(gs_cv.best_params_)"
      ],
      "execution_count": 11,
      "outputs": [
        {
          "output_type": "stream",
          "name": "stdout",
          "text": [
            "{'regr__alpha': 0.013, 'regr__fit_intercept': False, 'regr__max_iter': 400, 'regr__penalty': 'l1'}\n"
          ]
        }
      ]
    },
    {
      "cell_type": "code",
      "metadata": {
        "id": "Kyv2fBPso9L5"
      },
      "source": [
        ""
      ],
      "execution_count": null,
      "outputs": []
    }
  ]
}