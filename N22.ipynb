{
  "nbformat": 4,
  "nbformat_minor": 0,
  "metadata": {
    "colab": {
      "name": "N22.ipynb",
      "provenance": []
    },
    "kernelspec": {
      "name": "python3",
      "display_name": "Python 3"
    },
    "language_info": {
      "name": "python"
    }
  },
  "cells": [
    {
      "cell_type": "code",
      "metadata": {
        "id": "XC01UZVxY4KB"
      },
      "source": [
        "from sklearn.model_selection import GridSearchCV\n",
        "from sklearn.linear_model import ElasticNet\n",
        "from sklearn.pipeline import Pipeline\n",
        "from sklearn.datasets import make_regression"
      ],
      "execution_count": 7,
      "outputs": []
    },
    {
      "cell_type": "code",
      "metadata": {
        "id": "epzPGZq3ZHxe"
      },
      "source": [
        "X, y = make_regression(n_samples=1000, n_features=20, random_state=42)"
      ],
      "execution_count": 8,
      "outputs": []
    },
    {
      "cell_type": "code",
      "metadata": {
        "id": "zRLn1PlzZQQy"
      },
      "source": [
        "pipeline = Pipeline([\n",
        "                     ('regr', ElasticNet())\n",
        "])"
      ],
      "execution_count": 9,
      "outputs": []
    },
    {
      "cell_type": "code",
      "metadata": {
        "id": "rYm3edmCZU8Y"
      },
      "source": [
        "params = {\n",
        "    'regr__fit_intercept': [True, False],\n",
        "    'regr__copy_X': [True, False],\n",
        "    'regr__l1_ratio': [0.1, 0.2, 0.3]\n",
        "}"
      ],
      "execution_count": 13,
      "outputs": []
    },
    {
      "cell_type": "code",
      "metadata": {
        "id": "duL4-6QgZcaR"
      },
      "source": [
        "gs_cv = GridSearchCV(estimator=pipeline, param_grid=params, cv=5, n_jobs=-1)"
      ],
      "execution_count": 14,
      "outputs": []
    },
    {
      "cell_type": "code",
      "metadata": {
        "colab": {
          "base_uri": "https://localhost:8080/"
        },
        "id": "anoTvZfKZkXK",
        "outputId": "b3e9a15e-de03-4045-e733-9b107dea0219"
      },
      "source": [
        "gs_cv.fit(X, y)"
      ],
      "execution_count": 15,
      "outputs": [
        {
          "output_type": "execute_result",
          "data": {
            "text/plain": [
              "GridSearchCV(cv=5, error_score=nan,\n",
              "             estimator=Pipeline(memory=None,\n",
              "                                steps=[('regr',\n",
              "                                        ElasticNet(alpha=1.0, copy_X=True,\n",
              "                                                   fit_intercept=True,\n",
              "                                                   l1_ratio=0.5, max_iter=1000,\n",
              "                                                   normalize=False,\n",
              "                                                   positive=False,\n",
              "                                                   precompute=False,\n",
              "                                                   random_state=None,\n",
              "                                                   selection='cyclic',\n",
              "                                                   tol=0.0001,\n",
              "                                                   warm_start=False))],\n",
              "                                verbose=False),\n",
              "             iid='deprecated', n_jobs=-1,\n",
              "             param_grid={'regr__copy_X': [True, False],\n",
              "                         'regr__fit_intercept': [True, False],\n",
              "                         'regr__l1_ratio': [0.1, 0.2, 0.3]},\n",
              "             pre_dispatch='2*n_jobs', refit=True, return_train_score=False,\n",
              "             scoring=None, verbose=0)"
            ]
          },
          "metadata": {},
          "execution_count": 15
        }
      ]
    },
    {
      "cell_type": "code",
      "metadata": {
        "colab": {
          "base_uri": "https://localhost:8080/"
        },
        "id": "T7fSix1fZl-0",
        "outputId": "9ad990bc-ab23-4144-c12a-d91cde98d4e8"
      },
      "source": [
        "print(gs_cv.best_score_)"
      ],
      "execution_count": 16,
      "outputs": [
        {
          "output_type": "stream",
          "name": "stdout",
          "text": [
            "0.818236445130555\n"
          ]
        }
      ]
    },
    {
      "cell_type": "code",
      "metadata": {
        "colab": {
          "base_uri": "https://localhost:8080/"
        },
        "id": "C7w_8ucHZ9E9",
        "outputId": "9425c7ea-3708-4c53-ff50-797dde565d40"
      },
      "source": [
        "print(gs_cv.best_params_)"
      ],
      "execution_count": 17,
      "outputs": [
        {
          "output_type": "stream",
          "name": "stdout",
          "text": [
            "{'regr__copy_X': True, 'regr__fit_intercept': False, 'regr__l1_ratio': 0.3}\n"
          ]
        }
      ]
    },
    {
      "cell_type": "code",
      "metadata": {
        "id": "Yz-XIHFSZ_Yn"
      },
      "source": [
        ""
      ],
      "execution_count": null,
      "outputs": []
    }
  ]
}