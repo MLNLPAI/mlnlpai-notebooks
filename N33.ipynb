{
  "nbformat": 4,
  "nbformat_minor": 0,
  "metadata": {
    "colab": {
      "name": "N33.ipynb",
      "provenance": []
    },
    "kernelspec": {
      "name": "python3",
      "display_name": "Python 3"
    },
    "language_info": {
      "name": "python"
    }
  },
  "cells": [
    {
      "cell_type": "code",
      "metadata": {
        "id": "_qDgGFIGs9M9"
      },
      "source": [
        "from sklearn.model_selection import GridSearchCV\n",
        "from sklearn.linear_model import HuberRegressor\n",
        "from sklearn.pipeline import Pipeline\n",
        "from sklearn.datasets import make_regression"
      ],
      "execution_count": 1,
      "outputs": []
    },
    {
      "cell_type": "code",
      "metadata": {
        "id": "MM4v0DnDs_VW"
      },
      "source": [
        "X, y = make_regression(n_samples=1000, n_features=100, random_state=42)"
      ],
      "execution_count": 2,
      "outputs": []
    },
    {
      "cell_type": "code",
      "metadata": {
        "id": "JPgByKlQtLOH"
      },
      "source": [
        "pipeline = Pipeline([\n",
        "                     ('regr', HuberRegressor())\n",
        "])"
      ],
      "execution_count": 3,
      "outputs": []
    },
    {
      "cell_type": "code",
      "metadata": {
        "id": "zeIWWLPTtVwQ"
      },
      "source": [
        "params = {\n",
        "    'regr__fit_intercept': [True, False],\n",
        "    'regr__epsilon': [2.0, 2.2, 3.2],\n",
        "    'regr__alpha': [1.0, 2.0, 3.0],\n",
        "    'regr__max_iter': [100, 200, 300],\n",
        "}"
      ],
      "execution_count": 4,
      "outputs": []
    },
    {
      "cell_type": "code",
      "metadata": {
        "id": "rlPrbuvntiHU"
      },
      "source": [
        "gs_cv = GridSearchCV(estimator=pipeline, param_grid=params, cv=3, n_jobs=-1)"
      ],
      "execution_count": 5,
      "outputs": []
    },
    {
      "cell_type": "code",
      "metadata": {
        "colab": {
          "base_uri": "https://localhost:8080/"
        },
        "id": "sjcsn3NTtsT9",
        "outputId": "2e6d4a6a-01ff-4340-f395-b5528e52cab1"
      },
      "source": [
        "gs_cv.fit(X, y)"
      ],
      "execution_count": 6,
      "outputs": [
        {
          "output_type": "execute_result",
          "data": {
            "text/plain": [
              "GridSearchCV(cv=3, error_score=nan,\n",
              "             estimator=Pipeline(memory=None,\n",
              "                                steps=[('regr',\n",
              "                                        HuberRegressor(alpha=0.0001,\n",
              "                                                       epsilon=1.35,\n",
              "                                                       fit_intercept=True,\n",
              "                                                       max_iter=100, tol=1e-05,\n",
              "                                                       warm_start=False))],\n",
              "                                verbose=False),\n",
              "             iid='deprecated', n_jobs=-1,\n",
              "             param_grid={'regr__alpha': [1.0, 2.0, 3.0],\n",
              "                         'regr__epsilon': [2.0, 2.2, 3.2],\n",
              "                         'regr__fit_intercept': [True, False],\n",
              "                         'regr__max_iter': [100, 200, 300]},\n",
              "             pre_dispatch='2*n_jobs', refit=True, return_train_score=False,\n",
              "             scoring=None, verbose=0)"
            ]
          },
          "metadata": {},
          "execution_count": 6
        }
      ]
    },
    {
      "cell_type": "code",
      "metadata": {
        "colab": {
          "base_uri": "https://localhost:8080/"
        },
        "id": "hMZ24w2ptt8S",
        "outputId": "723319bd-e44f-423d-f1a9-b1b1118b96db"
      },
      "source": [
        "print(gs_cv.best_score_)"
      ],
      "execution_count": 7,
      "outputs": [
        {
          "output_type": "stream",
          "name": "stdout",
          "text": [
            "1.0\n"
          ]
        }
      ]
    },
    {
      "cell_type": "code",
      "metadata": {
        "id": "RK1F9sUOt6ro",
        "outputId": "994a2a02-a6f6-4906-a5fa-64deefc0708b",
        "colab": {
          "base_uri": "https://localhost:8080/"
        }
      },
      "source": [
        "print(gs_cv.best_params_)"
      ],
      "execution_count": 8,
      "outputs": [
        {
          "output_type": "stream",
          "name": "stdout",
          "text": [
            "{'regr__alpha': 1.0, 'regr__epsilon': 2.0, 'regr__fit_intercept': True, 'regr__max_iter': 100}\n"
          ]
        }
      ]
    },
    {
      "cell_type": "code",
      "metadata": {
        "id": "yceOwd3-t8wB"
      },
      "source": [
        ""
      ],
      "execution_count": null,
      "outputs": []
    }
  ]
}