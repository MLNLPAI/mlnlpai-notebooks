{
  "nbformat": 4,
  "nbformat_minor": 0,
  "metadata": {
    "colab": {
      "name": "N14.ipynb",
      "provenance": [],
      "collapsed_sections": []
    },
    "kernelspec": {
      "name": "python3",
      "display_name": "Python 3"
    },
    "language_info": {
      "name": "python"
    }
  },
  "cells": [
    {
      "cell_type": "code",
      "metadata": {
        "id": "0xxvs29wrBIc"
      },
      "source": [
        "from sklearn.model_selection import GridSearchCV\n",
        "from sklearn.linear_model import LassoCV\n",
        "from sklearn.pipeline import Pipeline\n",
        "from sklearn.datasets import make_regression"
      ],
      "execution_count": 1,
      "outputs": []
    },
    {
      "cell_type": "code",
      "metadata": {
        "id": "Ksf_ZBjLrEHk"
      },
      "source": [
        "X, y = make_regression(n_samples=1000, n_features=100, random_state=42)"
      ],
      "execution_count": 2,
      "outputs": []
    },
    {
      "cell_type": "code",
      "metadata": {
        "id": "OjE4hT69rL0x"
      },
      "source": [
        "pipeline = Pipeline([\n",
        "                     ('regr', LassoCV())\n",
        "])"
      ],
      "execution_count": 3,
      "outputs": []
    },
    {
      "cell_type": "code",
      "metadata": {
        "id": "nsA6lOsZrPXW"
      },
      "source": [
        "params = {\n",
        "    'regr__fit_intercept': [True, False],\n",
        "    'regr__copy_X':[True, False],\n",
        "}"
      ],
      "execution_count": 7,
      "outputs": []
    },
    {
      "cell_type": "code",
      "metadata": {
        "id": "vVC6It1DrbH2"
      },
      "source": [
        "gs_cv = GridSearchCV(estimator=pipeline, param_grid=params, cv=4, n_jobs=-1)"
      ],
      "execution_count": 8,
      "outputs": []
    },
    {
      "cell_type": "code",
      "metadata": {
        "colab": {
          "base_uri": "https://localhost:8080/"
        },
        "id": "44V4RCi7rhf6",
        "outputId": "4ca6420a-f3a2-479e-9245-1349ed0c9984"
      },
      "source": [
        "gs_cv.fit(X, y)"
      ],
      "execution_count": 9,
      "outputs": [
        {
          "output_type": "execute_result",
          "data": {
            "text/plain": [
              "GridSearchCV(cv=4, error_score=nan,\n",
              "             estimator=Pipeline(memory=None,\n",
              "                                steps=[('regr',\n",
              "                                        LassoCV(alphas=None, copy_X=True,\n",
              "                                                cv=None, eps=0.001,\n",
              "                                                fit_intercept=True,\n",
              "                                                max_iter=1000, n_alphas=100,\n",
              "                                                n_jobs=None, normalize=False,\n",
              "                                                positive=False,\n",
              "                                                precompute='auto',\n",
              "                                                random_state=None,\n",
              "                                                selection='cyclic', tol=0.0001,\n",
              "                                                verbose=False))],\n",
              "                                verbose=False),\n",
              "             iid='deprecated', n_jobs=-1,\n",
              "             param_grid={'regr__copy_X': [True, False],\n",
              "                         'regr__fit_intercept': [True, False]},\n",
              "             pre_dispatch='2*n_jobs', refit=True, return_train_score=False,\n",
              "             scoring=None, verbose=0)"
            ]
          },
          "metadata": {},
          "execution_count": 9
        }
      ]
    },
    {
      "cell_type": "code",
      "metadata": {
        "colab": {
          "base_uri": "https://localhost:8080/"
        },
        "id": "yZMuos50rjHz",
        "outputId": "eae27739-ed66-48ef-eccd-2b15b9ee2615"
      },
      "source": [
        "print(gs_cv.best_params_)"
      ],
      "execution_count": 10,
      "outputs": [
        {
          "output_type": "stream",
          "name": "stdout",
          "text": [
            "{'regr__copy_X': True, 'regr__fit_intercept': True}\n"
          ]
        }
      ]
    },
    {
      "cell_type": "code",
      "metadata": {
        "colab": {
          "base_uri": "https://localhost:8080/"
        },
        "id": "UC4KVPQFrub9",
        "outputId": "69eee674-d5b7-4947-ac6f-7c3275f90aa3"
      },
      "source": [
        "print(gs_cv.best_score_)"
      ],
      "execution_count": 11,
      "outputs": [
        {
          "output_type": "stream",
          "name": "stdout",
          "text": [
            "0.999997000375347\n"
          ]
        }
      ]
    },
    {
      "cell_type": "code",
      "metadata": {
        "id": "1boX4fGMrxSD"
      },
      "source": [
        ""
      ],
      "execution_count": null,
      "outputs": []
    }
  ]
}