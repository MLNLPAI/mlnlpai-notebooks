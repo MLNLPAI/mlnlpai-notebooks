{
  "nbformat": 4,
  "nbformat_minor": 0,
  "metadata": {
    "colab": {
      "name": "N26.ipynb",
      "provenance": []
    },
    "kernelspec": {
      "name": "python3",
      "display_name": "Python 3"
    },
    "language_info": {
      "name": "python"
    }
  },
  "cells": [
    {
      "cell_type": "code",
      "metadata": {
        "id": "9GT7VPGPd3OK"
      },
      "source": [
        "from sklearn.model_selection import GridSearchCV\n",
        "from sklearn.linear_model import BayesianRidge\n",
        "from sklearn.pipeline import Pipeline\n",
        "from sklearn.datasets import make_regression"
      ],
      "execution_count": 1,
      "outputs": []
    },
    {
      "cell_type": "code",
      "metadata": {
        "id": "xBeYWh3Td5C2"
      },
      "source": [
        "X, y = make_regression(n_samples=1000, n_features=10, random_state=42)"
      ],
      "execution_count": 2,
      "outputs": []
    },
    {
      "cell_type": "code",
      "metadata": {
        "id": "piXd-3yCeAa_"
      },
      "source": [
        "pipeline = Pipeline([\n",
        "                     ('regr', BayesianRidge())\n",
        "])"
      ],
      "execution_count": 3,
      "outputs": []
    },
    {
      "cell_type": "code",
      "metadata": {
        "id": "FD2uBQQ-eEWG"
      },
      "source": [
        "params = {\n",
        "    'regr__alpha_1': [0.5, 0.6],\n",
        "    'regr__alpha_2': [0.1, 0.2, 0.3],\n",
        "    'regr__fit_intercept': [True, False],\n",
        "    'regr__n_iter': [100, 200, 300, 400],\n",
        "    'regr__copy_X': [True, False],\n",
        "}"
      ],
      "execution_count": 4,
      "outputs": []
    },
    {
      "cell_type": "code",
      "metadata": {
        "id": "rSxgvregeXZg"
      },
      "source": [
        "gs_cv = GridSearchCV(estimator=pipeline, param_grid=params, cv=5, n_jobs=-1)"
      ],
      "execution_count": 5,
      "outputs": []
    },
    {
      "cell_type": "code",
      "metadata": {
        "colab": {
          "base_uri": "https://localhost:8080/"
        },
        "id": "qODNdvgHedFU",
        "outputId": "52383fac-3edb-47c4-8f18-328d78d9d5b0"
      },
      "source": [
        "gs_cv.fit(X, y)"
      ],
      "execution_count": 6,
      "outputs": [
        {
          "output_type": "execute_result",
          "data": {
            "text/plain": [
              "GridSearchCV(cv=5, error_score=nan,\n",
              "             estimator=Pipeline(memory=None,\n",
              "                                steps=[('regr',\n",
              "                                        BayesianRidge(alpha_1=1e-06,\n",
              "                                                      alpha_2=1e-06,\n",
              "                                                      alpha_init=None,\n",
              "                                                      compute_score=False,\n",
              "                                                      copy_X=True,\n",
              "                                                      fit_intercept=True,\n",
              "                                                      lambda_1=1e-06,\n",
              "                                                      lambda_2=1e-06,\n",
              "                                                      lambda_init=None,\n",
              "                                                      n_iter=300,\n",
              "                                                      normalize=False,\n",
              "                                                      tol=0.001,\n",
              "                                                      verbose=False))],\n",
              "                                verbose=False),\n",
              "             iid='deprecated', n_jobs=-1,\n",
              "             param_grid={'regr__alpha_1': [0.5, 0.6],\n",
              "                         'regr__alpha_2': [0.1, 0.2, 0.3],\n",
              "                         'regr__copy_X': [True, False],\n",
              "                         'regr__fit_intercept': [True, False],\n",
              "                         'regr__n_iter': [100, 200, 300, 400]},\n",
              "             pre_dispatch='2*n_jobs', refit=True, return_train_score=False,\n",
              "             scoring=None, verbose=0)"
            ]
          },
          "metadata": {},
          "execution_count": 6
        }
      ]
    },
    {
      "cell_type": "code",
      "metadata": {
        "colab": {
          "base_uri": "https://localhost:8080/"
        },
        "id": "IyKpFX2CeeUK",
        "outputId": "f5be3515-1e47-4839-b456-0b1e720f3a9a"
      },
      "source": [
        "print(gs_cv.best_score_)"
      ],
      "execution_count": 7,
      "outputs": [
        {
          "output_type": "stream",
          "name": "stdout",
          "text": [
            "1.0\n"
          ]
        }
      ]
    },
    {
      "cell_type": "code",
      "metadata": {
        "colab": {
          "base_uri": "https://localhost:8080/"
        },
        "id": "bnKoatNrehOn",
        "outputId": "c8bcfaf7-6c63-4bc6-9347-945d524aec47"
      },
      "source": [
        "print(gs_cv.best_params_)"
      ],
      "execution_count": 8,
      "outputs": [
        {
          "output_type": "stream",
          "name": "stdout",
          "text": [
            "{'regr__alpha_1': 0.5, 'regr__alpha_2': 0.1, 'regr__copy_X': True, 'regr__fit_intercept': True, 'regr__n_iter': 100}\n"
          ]
        }
      ]
    },
    {
      "cell_type": "code",
      "metadata": {
        "id": "SZsGxQjCekAI"
      },
      "source": [
        ""
      ],
      "execution_count": null,
      "outputs": []
    }
  ]
}